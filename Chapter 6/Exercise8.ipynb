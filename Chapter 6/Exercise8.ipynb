{
 "cells": [
  {
   "cell_type": "code",
   "execution_count": 8,
   "metadata": {},
   "outputs": [],
   "source": [
    "import numpy as np\n",
    "import pandas as pd\n",
    "\n",
    "from sklearn.linear_model import LinearRegression"
   ]
  },
  {
   "cell_type": "code",
   "execution_count": 14,
   "metadata": {},
   "outputs": [],
   "source": [
    "rng = np.random.default_rng(0)\n",
    "X = rng.normal(size=100)\n",
    "eps = rng.normal(size=100)"
   ]
  },
  {
   "cell_type": "code",
   "execution_count": 15,
   "metadata": {},
   "outputs": [],
   "source": [
    "beta0, beta1, beta2, beta3 = 1, 2, 3, 4\n",
    "Y = beta0 + beta1*X + beta2*X**2 + beta3*X**3 + eps"
   ]
  },
  {
   "cell_type": "code",
   "execution_count": 18,
   "metadata": {},
   "outputs": [
    {
     "name": "stdout",
     "output_type": "stream",
     "text": [
      "['X^1', 'X^2', 'X^3', 'X^4', 'X^5', 'X^6', 'X^7', 'X^8', 'X^9', 'X^10']\n"
     ]
    },
    {
     "data": {
      "text/html": [
       "<div>\n",
       "<style scoped>\n",
       "    .dataframe tbody tr th:only-of-type {\n",
       "        vertical-align: middle;\n",
       "    }\n",
       "\n",
       "    .dataframe tbody tr th {\n",
       "        vertical-align: top;\n",
       "    }\n",
       "\n",
       "    .dataframe thead th {\n",
       "        text-align: right;\n",
       "    }\n",
       "</style>\n",
       "<table border=\"1\" class=\"dataframe\">\n",
       "  <thead>\n",
       "    <tr style=\"text-align: right;\">\n",
       "      <th></th>\n",
       "      <th>X^1</th>\n",
       "      <th>X^2</th>\n",
       "      <th>X^3</th>\n",
       "      <th>X^4</th>\n",
       "      <th>X^5</th>\n",
       "      <th>X^6</th>\n",
       "      <th>X^7</th>\n",
       "      <th>X^8</th>\n",
       "      <th>X^9</th>\n",
       "      <th>X^10</th>\n",
       "      <th>Y</th>\n",
       "    </tr>\n",
       "  </thead>\n",
       "  <tbody>\n",
       "    <tr>\n",
       "      <th>0</th>\n",
       "      <td>0.125730</td>\n",
       "      <td>0.015808</td>\n",
       "      <td>0.001988</td>\n",
       "      <td>0.000250</td>\n",
       "      <td>0.000031</td>\n",
       "      <td>0.000004</td>\n",
       "      <td>4.966812e-07</td>\n",
       "      <td>6.244784e-08</td>\n",
       "      <td>7.851581e-09</td>\n",
       "      <td>9.871810e-10</td>\n",
       "      <td>1.809518</td>\n",
       "    </tr>\n",
       "    <tr>\n",
       "      <th>1</th>\n",
       "      <td>-0.132105</td>\n",
       "      <td>0.017452</td>\n",
       "      <td>-0.002305</td>\n",
       "      <td>0.000305</td>\n",
       "      <td>-0.000040</td>\n",
       "      <td>0.000005</td>\n",
       "      <td>-7.021528e-07</td>\n",
       "      <td>9.275780e-08</td>\n",
       "      <td>-1.225376e-08</td>\n",
       "      <td>1.618781e-09</td>\n",
       "      <td>1.768637</td>\n",
       "    </tr>\n",
       "    <tr>\n",
       "      <th>2</th>\n",
       "      <td>0.640423</td>\n",
       "      <td>0.410141</td>\n",
       "      <td>0.262664</td>\n",
       "      <td>0.168216</td>\n",
       "      <td>0.107729</td>\n",
       "      <td>0.068992</td>\n",
       "      <td>4.418418e-02</td>\n",
       "      <td>2.829655e-02</td>\n",
       "      <td>1.812175e-02</td>\n",
       "      <td>1.160558e-02</td>\n",
       "      <td>4.397629</td>\n",
       "    </tr>\n",
       "    <tr>\n",
       "      <th>3</th>\n",
       "      <td>0.104900</td>\n",
       "      <td>0.011004</td>\n",
       "      <td>0.001154</td>\n",
       "      <td>0.000121</td>\n",
       "      <td>0.000013</td>\n",
       "      <td>0.000001</td>\n",
       "      <td>1.397757e-07</td>\n",
       "      <td>1.466249e-08</td>\n",
       "      <td>1.538097e-09</td>\n",
       "      <td>1.613466e-10</td>\n",
       "      <td>0.173065</td>\n",
       "    </tr>\n",
       "    <tr>\n",
       "      <th>4</th>\n",
       "      <td>-0.535669</td>\n",
       "      <td>0.286942</td>\n",
       "      <td>-0.153706</td>\n",
       "      <td>0.082336</td>\n",
       "      <td>-0.044105</td>\n",
       "      <td>0.023625</td>\n",
       "      <td>-1.265545e-02</td>\n",
       "      <td>6.779139e-03</td>\n",
       "      <td>-3.631377e-03</td>\n",
       "      <td>1.945217e-03</td>\n",
       "      <td>1.047705</td>\n",
       "    </tr>\n",
       "  </tbody>\n",
       "</table>\n",
       "</div>"
      ],
      "text/plain": [
       "        X^1       X^2       X^3       X^4       X^5       X^6           X^7  \\\n",
       "0  0.125730  0.015808  0.001988  0.000250  0.000031  0.000004  4.966812e-07   \n",
       "1 -0.132105  0.017452 -0.002305  0.000305 -0.000040  0.000005 -7.021528e-07   \n",
       "2  0.640423  0.410141  0.262664  0.168216  0.107729  0.068992  4.418418e-02   \n",
       "3  0.104900  0.011004  0.001154  0.000121  0.000013  0.000001  1.397757e-07   \n",
       "4 -0.535669  0.286942 -0.153706  0.082336 -0.044105  0.023625 -1.265545e-02   \n",
       "\n",
       "            X^8           X^9          X^10         Y  \n",
       "0  6.244784e-08  7.851581e-09  9.871810e-10  1.809518  \n",
       "1  9.275780e-08 -1.225376e-08  1.618781e-09  1.768637  \n",
       "2  2.829655e-02  1.812175e-02  1.160558e-02  4.397629  \n",
       "3  1.466249e-08  1.538097e-09  1.613466e-10  0.173065  \n",
       "4  6.779139e-03 -3.631377e-03  1.945217e-03  1.047705  "
      ]
     },
     "execution_count": 18,
     "metadata": {},
     "output_type": "execute_result"
    }
   ],
   "source": [
    "columns = [f'X^{i}' for i in range(1, 11)]\n",
    "print(columns)\n",
    "\n",
    "d = {name: col for name, col in zip(columns, [X**i for i in range(1, 11)])}\n",
    "data = pd.DataFrame(d)\n",
    "data['Y'] = Y\n",
    "data.head()"
   ]
  },
  {
   "cell_type": "markdown",
   "metadata": {},
   "source": [
    "Mallow's $C_p$ is defined as:\n",
    "\n",
    "$$C_p = \\frac{1}{n}(RSS + 2d\\hat{\\sigma}^2)$$"
   ]
  },
  {
   "cell_type": "code",
   "execution_count": 20,
   "metadata": {},
   "outputs": [
    {
     "data": {
      "text/plain": [
       "0.9949446438273616"
      ]
     },
     "execution_count": 20,
     "metadata": {},
     "output_type": "execute_result"
    }
   ],
   "source": [
    "# Computing Cp with no predictors (only beta0)\n",
    "y = data['Y']\n",
    "X = data[columns]\n",
    "model = LinearRegression().fit(X, y)\n",
    "model.score(X, y)"
   ]
  },
  {
   "cell_type": "code",
   "execution_count": 21,
   "metadata": {},
   "outputs": [],
   "source": [
    "# Forward selection based on Cp\n",
    "def nCp(sigma2, estimator, X, Y):\n",
    "    \"Cp statistic\"\n",
    "    n, p = X.shape\n",
    "    Yhat = estimator.predict(X)\n",
    "    RSS = np.sum((Y-Yhat)**2)\n",
    "    return (RSS + 2*p*sigma2)/n"
   ]
  },
  {
   "cell_type": "code",
   "execution_count": null,
   "metadata": {},
   "outputs": [],
   "source": [
    "sigma2 = model.sca\n",
    "cp = nCp(sigma2, model, X, y)"
   ]
  },
  {
   "cell_type": "code",
   "execution_count": 26,
   "metadata": {},
   "outputs": [
    {
     "ename": "AttributeError",
     "evalue": "'LinearRegression' object has no attribute 'covariances_'",
     "output_type": "error",
     "traceback": [
      "\u001b[1;31m---------------------------------------------------------------------------\u001b[0m",
      "\u001b[1;31mAttributeError\u001b[0m                            Traceback (most recent call last)",
      "Cell \u001b[1;32mIn[26], line 1\u001b[0m\n\u001b[1;32m----> 1\u001b[0m \u001b[43mmodel\u001b[49m\u001b[38;5;241;43m.\u001b[39;49m\u001b[43mcovariances_\u001b[49m\n",
      "\u001b[1;31mAttributeError\u001b[0m: 'LinearRegression' object has no attribute 'covariances_'"
     ]
    }
   ],
   "source": [
    "model.covariances_"
   ]
  },
  {
   "cell_type": "code",
   "execution_count": null,
   "metadata": {},
   "outputs": [],
   "source": []
  }
 ],
 "metadata": {
  "kernelspec": {
   "display_name": "venv",
   "language": "python",
   "name": "python3"
  },
  "language_info": {
   "codemirror_mode": {
    "name": "ipython",
    "version": 3
   },
   "file_extension": ".py",
   "mimetype": "text/x-python",
   "name": "python",
   "nbconvert_exporter": "python",
   "pygments_lexer": "ipython3",
   "version": "3.11.2"
  }
 },
 "nbformat": 4,
 "nbformat_minor": 2
}
