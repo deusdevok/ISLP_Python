{
 "cells": [
  {
   "cell_type": "markdown",
   "metadata": {},
   "source": [
    "# Chapter 6 Conceptual Exercises"
   ]
  },
  {
   "cell_type": "markdown",
   "metadata": {},
   "source": [
    "## Problem 1\n",
    "\n",
    "Best subset, forward stepwise and backward stepwise selection. For each approach, we get *p+1* models, containing 0, 1, 2, ..., *p* predictors.\n",
    "\n",
    "a) The smallest training RSS (residual sum of squares) will be obtained from the **best subset** containing *k* predictors. This is because in the best subset approach we fit the model in all the $\\binom{n}{k}$ subsets. That is, from the *p* predictors we choose *k* from them (with $k\\leq p$), and evaluate the training RSS in every possible combination. We keep the one that has the smallest RSS. In contrast, in forward or backward stepwise not every combination is obtained, and thus it is possible that the combination with the smallest RSS is not tested in the training set.\n",
    "\n",
    "b) Regarding the *test* set, the smallest RSS can be obtained from either forward or backward stepwise selection. This is because in the best subset approach, there is a high chance of overfitting, which leads to a poor prediction power in a test set.\n",
    "\n",
    "c) True or False\n",
    "* **i.** **True**. In forward selection, the predictors are added to the set one by one. After choosing *k* predictors, these predictors are kept fixed and then after adding another one we end up with *k+1* predictors. So the *k* previous predictors end up being a subset of the *k+1* predictors at the end.\n",
    "* **ii.** **True**. In backward stepwise, we start with all *p* predictors and remove one by one according to the scores. If we have *k+1* predictors and remove one of them, we end up with *k* predictors, which results in being a subset of the *k+1* previous ones.\n",
    "* **iii.** **False**. When making backward stepwise we may end up with a set of different predictors compared with forward stepwise. Each method has a different starting point (in forward we begin with the null model, while in backward we begin with the full model). Each method may take different selection *paths* and end up with different set of predictors.\n",
    "* **iv.** **False**. This is a similar case than **iii**, but the other way around.\n",
    "* **v.** **False**. Not necessarily true, because choosing *k+1* predictors may no be the same as choosing a set of those *k+1* predictors when choosing only *k*."
   ]
  },
  {
   "cell_type": "markdown",
   "metadata": {},
   "source": [
    "## Problem 2\n",
    "\n",
    "a) The lasso, relative to least squares:\n",
    "* **i. Incorrect**. Lasso uses a subset of all the predictors, so it is less flexible than a least squares approach.\n",
    "* **ii. Incorrect**.\n",
    "* **iii. Correct**. Since Lasso tends to reduce the number of predictors, the bias increases while the variance decreases, compared to least squares. If the increase in bias is less than the decrease in variance, the prediction accuracy will improve.\n",
    "* **iv. Incorrect**. Lasso doesn't increase variance nor decrease bias. Is the other way around.\n",
    "\n",
    "b) Ridge regression relative to least squares:\n",
    "* **iii.** The argument is similar to part **a)**.\n",
    "\n",
    "c) Non-linear methods relative to least squares:\n",
    "* **ii.** Non-linear methods are more flexible, and tend to increase bias while reduce variance."
   ]
  },
  {
   "cell_type": "markdown",
   "metadata": {},
   "source": [
    "## Problem 3\n",
    "\n",
    "a) **iv.** The training RSS will steadily decrease when *s* increases from 0. This is beacuse when *s* increases, the values of $\\beta$ can take larger values, and from the expression of RSS, the RSS will decrease.\n",
    "\n",
    "b) **ii.** For the test RSS, it will first decrease (just as the training RSS), but at some point it will start increasing because of overfitting.\n",
    "\n",
    "c) **iii.*** Variance will steadily increase, because when *s* increases, the parameters become more important.\n",
    "\n",
    "d) **iv.** Squared bias will increase monotonically, since increasing *s* makes the model with more parameters (more biased).\n",
    "\n",
    "e) **v.** The irreducible error does not depend on any parameters, hence it is a constant."
   ]
  },
  {
   "cell_type": "markdown",
   "metadata": {},
   "source": [
    "## Problem 4\n",
    "\n",
    "Ridge regression. We want to minimize the quantity:\n",
    "\n",
    "$$\\sum_{i=1}^n\\left(y_i-\\beta_0-\\sum_{j=1}^p \\beta_j x_{ij} \\right)^2 + \\lambda \\sum_{j=1}^p \\beta_j^2$$\n",
    "\n",
    "When the parameter $\\lambda$ is equal to zero, the quantity to minimize is the RSS (first term). When $\\lambda$ increases from zero, the parameters $\\beta_j$ will start decreasing (*shrinkage*), eventually reaching zero.\n",
    "\n",
    "As the parameters $\\beta_j$ decreases, the RSS will start increasing.\n",
    "\n",
    "a) **iii.** Train RSS will steadily increase as $\\lambda$ increases.\n",
    "\n",
    "b) **ii.** Test RSS will first decrease, and eventually will increase. The shape of the curve will be seen as an U shape.\n",
    "\n",
    "c) **iv.** Variance will steadily decrease. The $\\beta_j$ parameters will decrease, making the model more biased. Generally, when the number of parameters in a model decreases, the variance will decrease.\n",
    "\n",
    "d) **iii.** Bias will steadily increase, because as $\\lambda$ increases from zero, the parameters will decrease towards zero, making the model more biased.\n",
    "\n",
    "e) **v.** The irreducible error is constant. It doesn't depend on the parameters."
   ]
  },
  {
   "cell_type": "markdown",
   "metadata": {},
   "source": [
    "## Problem 5\n",
    "\n",
    "The data:\n",
    "\n",
    "| id | $x_1$    | $x_2$    | y     | \n",
    "| :--: | :--------: | :--------: | :-----: |\n",
    "| 1  | $x_{11}$ | $x_{12}$ | $y_1$ |\n",
    "| 2  | $x_{21}$ | $x_{22}$ | $y_2$ |\n",
    "\n",
    "Where:\n",
    "\n",
    "* $x_{11} = x_{12}$\n",
    "* $x_{21} = x_{22}$\n",
    "* $y_1+y_2 = 0$\n",
    "* $x_{11}+x_{21} = 0$\n",
    "* $x_{12}+x_{22} = 0$\n",
    "\n",
    "For example:\n",
    "\n",
    "| id | $x_1$    | $x_2$    | y     | \n",
    "| :--: | :--------: | :--------: | :-----: |\n",
    "| 1  | 5 | 5 | -4 |\n",
    "| 2  | -5 | -5 | 4 |\n",
    "\n",
    "For this case, the model is:\n",
    "\n",
    "$$y = \\beta_0 + \\beta_1 x_1 + \\beta_2 x_2$$\n",
    "\n",
    "For **Ridge** regression we want to minimize:\n",
    "\n",
    "$$\\sum_{i=1}^n\\left(y_i-\\beta_0-\\sum_{j=1}^p \\beta_j x_{ij} \\right)^2 + \\lambda \\sum_{j=1}^p \\beta_j^2$$\n",
    "\n",
    "$$\\left(y_1- \\beta_1 x_{11} - \\beta_2 x_{12} \\right)^2 + \\left(y_2- \\beta_1 x_{21} - \\beta_2 x_{22} \\right)^2 + \\lambda (\\beta_1^2 + \\beta_2^2)$$\n",
    "\n",
    "$$\\left(y_1- \\beta_1 x_{11} - \\beta_2 x_{11} \\right)^2 + \\left(-y_1- \\beta_1 x_{21} - \\beta_2 x_{21} \\right)^2 + \\lambda (\\beta_1^2 + \\beta_2^2)$$\n",
    "\n",
    "$$\\left(y_1- \\beta_1 x_{11} - \\beta_2 x_{11} \\right)^2 + \\left(-y_1+ \\beta_1 x_{11} + \\beta_2 x_{11} \\right)^2 + \\lambda (\\beta_1^2 + \\beta_2^2)$$\n",
    "\n",
    "$$\\left(y_1- \\beta_1 x_{11} - \\beta_2 x_{11} \\right)^2 + \\left(y_1- \\beta_1 x_{11} - \\beta_2 x_{11} \\right)^2 + \\lambda (\\beta_1^2 + \\beta_2^2)$$\n",
    "\n",
    "$$2\\left(y_1- \\beta_1 x_{11} - \\beta_2 x_{11} \\right)^2 + \\lambda (\\beta_1^2 + \\beta_2^2)$$\n",
    "\n",
    "To find the minimum of this expression, take the derivative with respect to both $\\beta_1$ and $\\beta_2$:\n",
    "\n",
    "$$\\frac{\\partial}{\\partial \\beta_1} = -4\\left(y_1- \\beta_1 x_{11} - \\beta_2 x_{11} \\right)x_{11} + 2\\lambda \\beta_1 = 0$$\n",
    "\n",
    "$$\\frac{\\partial}{\\partial \\beta_2} = -4\\left(y_1- \\beta_1 x_{11} - \\beta_2 x_{11} \\right)x_{11} + 2\\lambda \\beta_2 = 0$$\n",
    "\n",
    "Both these equations must hold simultaneously. We could subtract one with the other, and get:\n",
    "\n",
    "$$2\\lambda \\beta_1 - 2\\lambda \\beta_2 = 0$$\n",
    "\n",
    "And the conclusion is that both parameters must be equal:\n",
    "\n",
    "$$\\boxed{\\beta_1 = \\beta_2}$$\n",
    "\n",
    "The **Lasso** optimization problem involves minimizing the following:\n",
    "\n",
    "$$\\sum_{i=1}^n\\left(y_i-\\beta_0-\\sum_{j=1}^p \\beta_j x_{ij} \\right)^2 + \\lambda \\sum_{j=1}^p |\\beta_j|$$\n",
    "\n",
    "Following similar steps of that of Ridge, we get the following:\n",
    "\n",
    "$$2\\left(y_1- \\beta_1 x_{11} - \\beta_2 x_{11} \\right)^2 + \\lambda (|\\beta_1| + |\\beta_2|)$$\n",
    "\n",
    "The derivative with respect to the parameters:\n",
    "\n",
    "$$\\frac{\\partial}{\\partial \\beta_1} = -4\\left(y_1- \\beta_1 x_{11} - \\beta_2 x_{11} \\right)x_{11} + \\lambda \\frac{\\beta_1}{|\\beta_1|} = 0$$\n",
    "\n",
    "$$\\frac{\\partial}{\\partial \\beta_2} = -4\\left(y_1- \\beta_1 x_{11} - \\beta_2 x_{11} \\right)x_{11} + \\lambda \\frac{\\beta_2}{|\\beta_2|} = 0$$\n",
    "\n",
    "After subtracting:\n",
    "\n",
    "$$\\lambda \\frac{\\beta_1}{|\\beta_1|} - \\lambda \\frac{\\beta_2}{|\\beta_2|} = 0$$\n",
    "\n",
    "$$\\boxed{\\frac{\\beta_1}{|\\beta_1|} = \\frac{\\beta_2}{|\\beta_2|}}$$\n",
    "\n",
    "We can see that in this result, the coefficients can take any value, but the signs must be equal. For example: $\\beta_1=32, \\beta_2=12$, or $\\beta_1=-7.4, \\beta_2=-2.32$\n",
    "\n",
    "There is a very good analysis which takes another approach and gives a visual intuition in [this link](https://rpubs.com/lmorgan95/ISLR_CH6_Solutions)."
   ]
  },
  {
   "cell_type": "markdown",
   "metadata": {},
   "source": [
    "## Problem 6\n",
    "\n",
    "Ridge (for $p=1$):\n",
    "\n",
    "$$(y_1 - \\beta_1)^2 + \\lambda \\beta_1^2$$"
   ]
  },
  {
   "cell_type": "code",
   "execution_count": 41,
   "metadata": {},
   "outputs": [
    {
     "data": {
      "text/plain": [
       "Text(0, 0.5, 'f($\\\\beta_1$)')"
      ]
     },
     "execution_count": 41,
     "metadata": {},
     "output_type": "execute_result"
    },
    {
     "data": {
      "image/png": "[encoded data removed]",
      "text/plain": [
       "<Figure size 640x480 with 1 Axes>"
      ]
     },
     "metadata": {},
     "output_type": "display_data"
    }
   ],
   "source": [
    "import matplotlib.pyplot as plt\n",
    "import numpy as np\n",
    "\n",
    "beta = np.linspace(-1, 4, num=200)\n",
    "y = 7\n",
    "lam = 2\n",
    "\n",
    "min_beta = y/(1+lam)\n",
    "\n",
    "def f(b):\n",
    "    return (y-b)**2 + lam*b**2\n",
    "\n",
    "plt.plot(beta, f(beta), label='f')\n",
    "plt.plot(beta, np.ones(len(beta))*f(min_beta), label=r'$\\frac{y_1}{1+\\lambda}$')\n",
    "plt.grid()\n",
    "plt.legend(fontsize=16)\n",
    "plt.xlabel(r'$\\beta_1$', fontsize=14)\n",
    "plt.ylabel(r'f($\\beta_1$)', fontsize=14)"
   ]
  },
  {
   "cell_type": "code",
   "execution_count": null,
   "metadata": {},
   "outputs": [],
   "source": []
  }
 ],
 "metadata": {
  "kernelspec": {
   "display_name": "venv",
   "language": "python",
   "name": "python3"
  },
  "language_info": {
   "codemirror_mode": {
    "name": "ipython",
    "version": 3
   },
   "file_extension": ".py",
   "mimetype": "text/x-python",
   "name": "python",
   "nbconvert_exporter": "python",
   "pygments_lexer": "ipython3",
   "version": "3.11.2"
  }
 },
 "nbformat": 4,
 "nbformat_minor": 2
}
