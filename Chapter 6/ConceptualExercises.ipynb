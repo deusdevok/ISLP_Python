{
 "cells": [
  {
   "cell_type": "markdown",
   "metadata": {},
   "source": [
    "# Chapter 6 Conceptual Exercises"
   ]
  },
  {
   "cell_type": "markdown",
   "metadata": {},
   "source": [
    "## Problem 1\n",
    "\n",
    "Best subset, forward stepwise and backward stepwise selection. For each approach, we get *p+1* models, containing 0, 1, 2, ..., *p* predictors.\n",
    "\n",
    "a) The smallest training RSS (residual sum of squares) will be obtained from the **best subset** containing *k* predictors. This is because in the best subset approach we fit the model in all the $\\binom{n}{k}$ subsets. That is, from the *p* predictors we choose *k* from them (with $k\\leq p$), and evaluate the training RSS in every possible combination. We keep the one that has the smallest RSS. In contrast, in forward or backward stepwise not every combination is obtained, and thus it is possible that the combination with the smallest RSS is not tested in the training set.\n",
    "\n",
    "b) Regarding the *test* set, the smallest RSS can be obtained from either forward or backward stepwise selection. This is because in the best subset approach, there is a high chance of overfitting, which leads to a poor prediction power in a test set.\n",
    "\n",
    "c) True or False\n",
    "* **i.** **True**. In forward selection, the predictors are added to the set one by one. After choosing *k* predictors, these predictors are kept fixed and then after adding another one we end up with *k+1* predictors. So the *k* previous predictors end up being a subset of the *k+1* predictors at the end.\n",
    "* **ii.** **True**. In backward stepwise, we start with all *p* predictors and remove one by one according to the scores. If we have *k+1* predictors and remove one of them, we end up with *k* predictors, which results in being a subset of the *k+1* previous ones.\n",
    "* **iii.** **False**. When making backward stepwise we may end up with a set of different predictors compared with forward stepwise. Each method has a different starting point (in forward we begin with the null model, while in backward we begin with the full model). Each method may take different selection *paths* and end up with different set of predictors.\n",
    "* **iv.** **False**. This is a similar case than **iii**, but the other way around.\n",
    "* **v.** **False**. Not necessarily true, because choosing *k+1* predictors may no be the same as choosing a set of those *k+1* predictors when choosing only *k*."
   ]
  },
  {
   "cell_type": "markdown",
   "metadata": {},
   "source": [
    "## Problem 2\n",
    "\n",
    "a) The lasso, relative to least squares:\n",
    "* **i. Incorrect**. Lasso uses a subset of all the predictors, so it is less flexible than a least squares approach.\n",
    "* **ii. Incorrect**.\n",
    "* **iii. Correct**. Since Lasso tends to reduce the number of predictors, the bias increases while the variance decreases, compared to least squares. If the increase in bias is less than the decrease in variance, the prediction accuracy will improve.\n",
    "* **iv. Incorrect**. Lasso doesn't increase variance nor decrease bias. Is the other way around.\n",
    "\n",
    "b) Ridge regression relative to least squares:\n",
    "* **iii.** The argument is similar to part **a)**.\n",
    "\n",
    "c) Non-linear methods relative to least squares:\n",
    "* **ii.** Non-linear methods are more flexible, and tend to increase bias while reduce variance."
   ]
  },
  {
   "cell_type": "markdown",
   "metadata": {},
   "source": [
    "## Problem 3\n",
    "\n",
    "a) **iv.** The training RSS will steadily decrease when *s* increases from 0. This is beacuse when *s* increases, the values of $\\beta$ can take larger values, and from the expression of RSS, the RSS will decrease.\n",
    "\n",
    "b) **ii.** For the test RSS, it will first decrease (just as the training RSS), but at some point it will start increasing because of overfitting.\n",
    "\n",
    "c) **iii.*** Variance will steadily increase, because when *s* increases, the parameters become more important.\n",
    "\n",
    "d) **iv.** Squared bias will increase monotonically, since increasing *s* makes the model with more parameters (more biased).\n",
    "\n",
    "e) **v.** The irreducible error does not depend on any parameters, hence it is a constant."
   ]
  },
  {
   "cell_type": "markdown",
   "metadata": {},
   "source": [
    "## Problem 4\n",
    "\n",
    "Ridge regression. We want to minimize the quantity:\n",
    "\n",
    "$$\\sum_{i=1}^n\\left(y_i-\\beta_0-\\sum_{j=1}^p \\beta_j x_{ij} \\right)^2 + \\lambda \\sum_{j=1}^p \\beta_j^2$$\n",
    "\n",
    "When the parameter $\\lambda$ is equal to zero, the quantity to minimize is the RSS (first term). When $\\lambda$ increases from zero, the parameters $\\beta_j$ will start decreasing (*shrinkage*), eventually reaching zero.\n",
    "\n",
    "As the parameters $\\beta_j$ decreases, the RSS will start increasing.\n",
    "\n",
    "a) **iii.** Train RSS will steadily increase as $\\lambda$ increases.\n",
    "\n",
    "b) **ii.** Test RSS will first decrease, and eventually will increase. The shape of the curve will be seen as an U shape.\n",
    "\n",
    "c) **iv.** Variance will steadily decrease. The $\\beta_j$ parameters will decrease, making the model more biased. Generally, when the number of parameters in a model decreases, the variance will decrease.\n",
    "\n",
    "d) **iii.** Bias will steadily increase, because as $\\lambda$ increases from zero, the parameters will decrease towards zero, making the model more biased.\n",
    "\n",
    "e) **v.** The irreducible error is constant. It doesn't depend on the parameters."
   ]
  },
  {
   "cell_type": "markdown",
   "metadata": {},
   "source": [
    "## Problem 5\n",
    "\n",
    "The data:\n",
    "\n",
    "| id | $x_1$    | $x_2$    | y     | \n",
    "| :--: | :--------: | :--------: | :-----: |\n",
    "| 1  | $x_{11}$ | $x_{12}$ | $y_1$ |\n",
    "| 2  | $x_{21}$ | $x_{22}$ | $y_2$ |\n",
    "\n",
    "Where:\n",
    "\n",
    "* $x_{11} = x_{12}$\n",
    "* $x_{21} = x_{22}$\n",
    "* $y_1+y_2 = 0$\n",
    "* $x_{11}+x_{21} = 0$\n",
    "* $x_{12}+x_{22} = 0$\n",
    "\n",
    "For example:\n",
    "\n",
    "| id | $x_1$    | $x_2$    | y     | \n",
    "| :--: | :--------: | :--------: | :-----: |\n",
    "| 1  | 5 | 5 | -4 |\n",
    "| 2  | -5 | -5 | 4 |"
   ]
  },
  {
   "cell_type": "markdown",
   "metadata": {},
   "source": []
  }
 ],
 "metadata": {
  "kernelspec": {
   "display_name": "venv",
   "language": "python",
   "name": "python3"
  },
  "language_info": {
   "name": "python",
   "version": "3.11.7"
  }
 },
 "nbformat": 4,
 "nbformat_minor": 2
}
