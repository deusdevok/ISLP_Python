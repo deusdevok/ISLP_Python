{
 "cells": [
  {
   "cell_type": "markdown",
   "metadata": {},
   "source": [
    "# Chapter 5 Conceptual Exercises"
   ]
  },
  {
   "cell_type": "markdown",
   "metadata": {},
   "source": [
    "## Exercise 1\n",
    "\n",
    "$\\alpha$: fraction of money invested in $X$.\n",
    "\n",
    "$$f(\\alpha) = Var(\\alpha X + (1-\\alpha)Y)$$\n",
    "\n",
    "The next property of the variance will be used:\n",
    "\n",
    "$$Var(aX+bY) = a^2Var(X) + b^2Var(Y) + 2abCov(X,Y)$$\n",
    "\n",
    "Using the property:\n",
    "\n",
    "$$f(\\alpha) = \\alpha^2Var(X) + (1-\\alpha)^2Var(Y) + 2\\alpha(1-\\alpha)Cov(X,Y)$$\n",
    "\n",
    "Taking the derivative of $f(\\alpha)$ with respect to $\\alpha$ and equating to zero:\n",
    "\n",
    "$$2\\alpha Var(X) - 2(1-\\alpha)Var(Y) + 2(1-2\\alpha)Cov(X,Y) = 0$$\n",
    "\n",
    "Joining terms with $\\alpha$:\n",
    "\n",
    "$$\\alpha(Var(X) + Var(Y) - 2Cov(X,Y)) = Var(Y) - 2Cov(X,Y)$$\n",
    "\n",
    "Solving for $\\alpha$ and renaming variances:\n",
    "\n",
    "$$\\boxed{\\alpha = \\frac{\\sigma^2_Y - \\sigma_{XY}}{\\sigma^2_X+\\sigma^2_Y-2\\sigma_{XY}}}$$"
   ]
  },
  {
   "cell_type": "markdown",
   "metadata": {},
   "source": [
    "## Exercise 2\n",
    "\n",
    "Probability that a given observation is part of a bootstrap sample.\n",
    "\n",
    "a) We have a sample from a set of *n* observations. We are being asked that the first bootstrap observation is a different one than another.\n",
    "\n",
    "$$P(s_1 \\neq j) = 1 - P(s_1 = j) = 1- \\frac{1}{n}$$\n",
    "\n",
    "b) This is equivalent, but with the second observation:\n",
    "\n",
    "$$P(s_2 \\neq j) = 1 - P(s_2 = j) = 1- \\frac{1}{n}$$\n",
    "\n",
    "c) Probability that the $jth$ observation is not in the bootstrap sample. From *a)* and *b)* we saw that the probability that a given observation (any of them) is different than the $jth$ observation is $1-1/n$. Here we are asked that the $jth$ observation *is not* present in the sample:\n",
    "\n",
    "$$P(s_i \\neq j) = 1- \\frac{1}{n}$$\n",
    "\n",
    "Since we are sampling *n* times with replacement, the probabilities are independent. For independent events, we can multiply the joined probabilities:\n",
    "\n",
    "$$P(s_j \\notin sample) = \\prod_{i=1}^n P(s_i \\neq j)$$\n",
    "\n",
    "$$P(s_j \\notin sample) = \\prod_{i=1}^n \\left(1-\\frac{1}{n}\\right)$$\n",
    "\n",
    "$$\\boxed{P(s_j \\notin sample) = \\left(1-\\frac{1}{n}\\right)^n}$$\n",
    "\n",
    "d) For $n=5$, the probability that the $jth$ observation is in the bootstrap sample is:\n",
    "\n",
    "$$P(s_j \\in sample) = 1-\\left(1-\\frac{1}{5}\\right)^5 = 0.6723$$\n",
    "\n",
    "e) For $n=100$:\n",
    "\n",
    "$$P(s_j \\in sample) = 1-\\left(1-\\frac{1}{100}\\right)^{100} = 0.634$$\n",
    "\n",
    "f) For $n=10000$:\n",
    "\n",
    "$$P(s_j \\in sample) = 1-\\left(1-\\frac{1}{10000}\\right)^{10000} = 0.632$$"
   ]
  },
  {
   "cell_type": "code",
   "execution_count": 1,
   "metadata": {},
   "outputs": [
    {
     "data": {
      "image/png": "[encoded data removed]",
      "text/plain": [
       "<Figure size 640x480 with 1 Axes>"
      ]
     },
     "metadata": {},
     "output_type": "display_data"
    }
   ],
   "source": [
    "import matplotlib.pyplot as plt\n",
    "\n",
    "n = list(range(1, 100001))\n",
    "p = [1-(1-1/x)**x for x in n]\n",
    "plt.plot(n, p)\n",
    "plt.xscale('log')"
   ]
  },
  {
   "cell_type": "code",
   "execution_count": 27,
   "metadata": {},
   "outputs": [
    {
     "data": {
      "text/plain": [
       "0.6362"
      ]
     },
     "execution_count": 27,
     "metadata": {},
     "output_type": "execute_result"
    }
   ],
   "source": [
    "import numpy as np\n",
    "rng = np.random.default_rng(10)\n",
    "store = np.empty(10000)\n",
    "for i in range(10000):\n",
    "    # The probability of finding 4 is 1/100 = 0.01\n",
    "    store[i] = np.sum(rng.choice(100, size=100, replace=True) == 4) > 0\n",
    "\n",
    "np.mean(store)"
   ]
  },
  {
   "cell_type": "markdown",
   "metadata": {},
   "source": [
    "In theory, the probability of choosing the 4th element in an array of 100 elements should be $1/100=0.01$.\n",
    "\n",
    "When making bootstrap samples, the final probability is close to 63.5%."
   ]
  },
  {
   "cell_type": "markdown",
   "metadata": {},
   "source": [
    "## Exercise 3\n",
    "\n",
    "Review k-fold cross-validation\n",
    "\n",
    "a) k-fold cross-validation takes the n observations and divides it into $k$ groups (or folds) of approximately the same size.\n",
    "\n",
    "The first fold is treated as a validation set, and the rest of the folds are used to train (fit) the method. Once the method is fitted, the mean squared error is computed using the validation set: $MSE_1$.\n",
    "\n",
    "The process is repeated, this time using the second fold as validation set, and the rest to train. $MSE_2$ is obtained.\n",
    "\n",
    "After making this process with the $k$ folds, we obtain $k$ mean squared errors, $MSE_k$. The k-fold Cross Validation (CV) is obtained by averaging all the mean squared errors:\n",
    "\n",
    "$$CV_{(k)} = \\frac{1}{k}\\sum_{i=1}^k MSE_i$$\n",
    "\n",
    "b) Advantages/disadvantages of k-fold CV relative to:\n",
    "    \n",
    "  * **i. Validation set approach**: The validation set approach divides the $n$ observations in a train set and a validation (test) set only once. The disadvantage is that the MSE will be less precise compared to k-fold CV. The advantage is that it is computationally less expensive.\n",
    "  * **ii. LOOCV**: Leave One Out Cross Validation is a special case of k-fold CV when $k=n$. One disadvantage of using a large value of $k$ instead of 5 or 10 is that it is computationally more expensive."
   ]
  },
  {
   "cell_type": "markdown",
   "metadata": {},
   "source": [
    "## Exercise 4\n",
    "\n",
    "The standard deviation of a prediction $Y$, given a predictor $X$, can be obtained using *bootstrap*. If the complete dataset contains *n* observations, we can take *m* samples with replacement. On each of these samples, we train the model and use it to make a prediction using the $X$ observation. The results $Y_i$ will be different, and with these values the standard deviation can be obtained."
   ]
  },
  {
   "cell_type": "markdown",
   "metadata": {},
   "source": []
  }
 ],
 "metadata": {
  "kernelspec": {
   "display_name": "venv",
   "language": "python",
   "name": "python3"
  },
  "language_info": {
   "codemirror_mode": {
    "name": "ipython",
    "version": 3
   },
   "file_extension": ".py",
   "mimetype": "text/x-python",
   "name": "python",
   "nbconvert_exporter": "python",
   "pygments_lexer": "ipython3",
   "version": "3.11.2"
  }
 },
 "nbformat": 4,
 "nbformat_minor": 2
}
