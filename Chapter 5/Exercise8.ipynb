{
 "cells": [
  {
   "cell_type": "code",
   "execution_count": 33,
   "metadata": {},
   "outputs": [],
   "source": [
    "import numpy as np\n",
    "import pandas as pd\n",
    "import matplotlib.pyplot as plt\n",
    "\n",
    "from sklearn.model_selection import LeaveOneOut\n",
    "from sklearn.linear_model import LinearRegression"
   ]
  },
  {
   "cell_type": "code",
   "execution_count": 2,
   "metadata": {},
   "outputs": [],
   "source": [
    "rng = np.random.default_rng(1)\n",
    "x = rng.normal(size=100)\n",
    "y = x - 2*x**2 + rng.normal(size=100)"
   ]
  },
  {
   "cell_type": "markdown",
   "metadata": {},
   "source": [
    "* n: 100, the size of the data (number of observations)\n",
    "* p: number of predictors. In this case, there is only one predictor: $x$\n",
    "\n",
    "The data was generated using the equation:\n",
    "\n",
    "$$y = x - 2x^2 + \\epsilon$$\n",
    "\n",
    "$$\\epsilon \\sim \\mathcal{N}(0,1)$$"
   ]
  },
  {
   "cell_type": "code",
   "execution_count": 10,
   "metadata": {},
   "outputs": [
    {
     "data": {
      "text/plain": [
       "[<matplotlib.lines.Line2D at 0x1b2cfb5bed0>]"
      ]
     },
     "execution_count": 10,
     "metadata": {},
     "output_type": "execute_result"
    },
    {
     "data": {
      "image/png": "[encoded data removed]",
      "text/plain": [
       "<Figure size 640x480 with 1 Axes>"
      ]
     },
     "metadata": {},
     "output_type": "display_data"
    }
   ],
   "source": [
    "x_plot = np.linspace(-3, 3)\n",
    "plt.scatter(x, y)\n",
    "plt.plot(x_plot, x_plot - 2*x_plot**2, 'r')"
   ]
  },
  {
   "cell_type": "code",
   "execution_count": 24,
   "metadata": {},
   "outputs": [
    {
     "data": {
      "text/html": [
       "<div>\n",
       "<style scoped>\n",
       "    .dataframe tbody tr th:only-of-type {\n",
       "        vertical-align: middle;\n",
       "    }\n",
       "\n",
       "    .dataframe tbody tr th {\n",
       "        vertical-align: top;\n",
       "    }\n",
       "\n",
       "    .dataframe thead th {\n",
       "        text-align: right;\n",
       "    }\n",
       "</style>\n",
       "<table border=\"1\" class=\"dataframe\">\n",
       "  <thead>\n",
       "    <tr style=\"text-align: right;\">\n",
       "      <th></th>\n",
       "      <th>x</th>\n",
       "      <th>x^2</th>\n",
       "      <th>x^3</th>\n",
       "      <th>x^4</th>\n",
       "      <th>y</th>\n",
       "    </tr>\n",
       "  </thead>\n",
       "  <tbody>\n",
       "    <tr>\n",
       "      <th>0</th>\n",
       "      <td>0.345584</td>\n",
       "      <td>0.119428</td>\n",
       "      <td>0.041273</td>\n",
       "      <td>0.014263</td>\n",
       "      <td>-0.544554</td>\n",
       "    </tr>\n",
       "    <tr>\n",
       "      <th>1</th>\n",
       "      <td>0.821618</td>\n",
       "      <td>0.675056</td>\n",
       "      <td>0.554639</td>\n",
       "      <td>0.455701</td>\n",
       "      <td>0.333950</td>\n",
       "    </tr>\n",
       "    <tr>\n",
       "      <th>2</th>\n",
       "      <td>0.330437</td>\n",
       "      <td>0.109189</td>\n",
       "      <td>0.036080</td>\n",
       "      <td>0.011922</td>\n",
       "      <td>-0.013532</td>\n",
       "    </tr>\n",
       "    <tr>\n",
       "      <th>3</th>\n",
       "      <td>-1.303157</td>\n",
       "      <td>1.698219</td>\n",
       "      <td>-2.213046</td>\n",
       "      <td>2.883947</td>\n",
       "      <td>-4.030442</td>\n",
       "    </tr>\n",
       "    <tr>\n",
       "      <th>4</th>\n",
       "      <td>0.905356</td>\n",
       "      <td>0.819669</td>\n",
       "      <td>0.742092</td>\n",
       "      <td>0.671858</td>\n",
       "      <td>0.484861</td>\n",
       "    </tr>\n",
       "  </tbody>\n",
       "</table>\n",
       "</div>"
      ],
      "text/plain": [
       "          x       x^2       x^3       x^4         y\n",
       "0  0.345584  0.119428  0.041273  0.014263 -0.544554\n",
       "1  0.821618  0.675056  0.554639  0.455701  0.333950\n",
       "2  0.330437  0.109189  0.036080  0.011922 -0.013532\n",
       "3 -1.303157  1.698219 -2.213046  2.883947 -4.030442\n",
       "4  0.905356  0.819669  0.742092  0.671858  0.484861"
      ]
     },
     "execution_count": 24,
     "metadata": {},
     "output_type": "execute_result"
    }
   ],
   "source": [
    "# Create dataset with linear, quadratic, cubic and quartic columns\n",
    "rng = np.random.default_rng(1)\n",
    "x = rng.normal(size=100)\n",
    "\n",
    "df = pd.DataFrame({\n",
    "    'x': x,\n",
    "    'x^2': x**2,\n",
    "    'x^3': x**3,\n",
    "    'x^4': x**4,\n",
    "    'y': x - 2*x**2 + rng.normal(size=100)\n",
    "})\n",
    "\n",
    "df.head()"
   ]
  },
  {
   "cell_type": "code",
   "execution_count": 34,
   "metadata": {},
   "outputs": [],
   "source": [
    "loo = LeaveOneOut()\n",
    "for fold in loo.split(df):\n",
    "    # fit model with each fold\n",
    "    #print(df.iloc[fold[0]])\n",
    "    pass"
   ]
  },
  {
   "cell_type": "code",
   "execution_count": 38,
   "metadata": {},
   "outputs": [
    {
     "data": {
      "text/plain": [
       "0.8939653468577546"
      ]
     },
     "execution_count": 38,
     "metadata": {},
     "output_type": "execute_result"
    }
   ],
   "source": [
    "columns = ['x', 'x^2', 'x^3', 'x^4']\n",
    "#columns = ['x', 'x^2']\n",
    "X = df[columns]\n",
    "y = df.y\n",
    "\n",
    "model = LinearRegression()\n",
    "model.fit(X, y)\n",
    "\n",
    "model.score(X, y)"
   ]
  },
  {
   "cell_type": "code",
   "execution_count": null,
   "metadata": {},
   "outputs": [],
   "source": []
  }
 ],
 "metadata": {
  "kernelspec": {
   "display_name": "venv",
   "language": "python",
   "name": "python3"
  },
  "language_info": {
   "codemirror_mode": {
    "name": "ipython",
    "version": 3
   },
   "file_extension": ".py",
   "mimetype": "text/x-python",
   "name": "python",
   "nbconvert_exporter": "python",
   "pygments_lexer": "ipython3",
   "version": "3.11.2"
  }
 },
 "nbformat": 4,
 "nbformat_minor": 2
}
