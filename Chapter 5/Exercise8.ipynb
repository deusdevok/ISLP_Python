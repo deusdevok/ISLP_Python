{
 "cells": [
  {
   "cell_type": "code",
   "execution_count": 1,
   "metadata": {},
   "outputs": [],
   "source": [
    "import numpy as np\n",
    "import pandas as pd\n",
    "import matplotlib.pyplot as plt\n",
    "\n",
    "from sklearn.model_selection import LeaveOneOut\n",
    "from sklearn.linear_model import LinearRegression"
   ]
  },
  {
   "cell_type": "code",
   "execution_count": 39,
   "metadata": {},
   "outputs": [],
   "source": [
    "rng = np.random.default_rng(1)\n",
    "n = 5000\n",
    "x = rng.normal(size=n)\n",
    "y = x - 2*x**2 + rng.normal(size=n)"
   ]
  },
  {
   "cell_type": "markdown",
   "metadata": {},
   "source": [
    "* n: 100, the size of the data (number of observations)\n",
    "* p: number of predictors. In this case, there is only one predictor: $x$\n",
    "\n",
    "The data was generated using the equation:\n",
    "\n",
    "$$y = x - 2x^2 + \\epsilon$$\n",
    "\n",
    "$$\\epsilon \\sim \\mathcal{N}(0,1)$$"
   ]
  },
  {
   "cell_type": "code",
   "execution_count": 40,
   "metadata": {},
   "outputs": [
    {
     "data": {
      "text/plain": [
       "[<matplotlib.lines.Line2D at 0x18633411450>]"
      ]
     },
     "execution_count": 40,
     "metadata": {},
     "output_type": "execute_result"
    },
    {
     "data": {
      "image/png": "[encoded data removed]",
      "text/plain": [
       "<Figure size 640x480 with 1 Axes>"
      ]
     },
     "metadata": {},
     "output_type": "display_data"
    }
   ],
   "source": [
    "x_plot = np.linspace(-3, 3)\n",
    "plt.scatter(x, y)\n",
    "plt.plot(x_plot, x_plot - 2*x_plot**2, 'r')"
   ]
  },
  {
   "cell_type": "code",
   "execution_count": 77,
   "metadata": {},
   "outputs": [
    {
     "data": {
      "text/html": [
       "<div>\n",
       "<style scoped>\n",
       "    .dataframe tbody tr th:only-of-type {\n",
       "        vertical-align: middle;\n",
       "    }\n",
       "\n",
       "    .dataframe tbody tr th {\n",
       "        vertical-align: top;\n",
       "    }\n",
       "\n",
       "    .dataframe thead th {\n",
       "        text-align: right;\n",
       "    }\n",
       "</style>\n",
       "<table border=\"1\" class=\"dataframe\">\n",
       "  <thead>\n",
       "    <tr style=\"text-align: right;\">\n",
       "      <th></th>\n",
       "      <th>x</th>\n",
       "      <th>x^2</th>\n",
       "      <th>x^3</th>\n",
       "      <th>x^4</th>\n",
       "      <th>y</th>\n",
       "    </tr>\n",
       "  </thead>\n",
       "  <tbody>\n",
       "    <tr>\n",
       "      <th>0</th>\n",
       "      <td>-0.359668</td>\n",
       "      <td>0.129361</td>\n",
       "      <td>-0.046527</td>\n",
       "      <td>0.016734</td>\n",
       "      <td>1.851173</td>\n",
       "    </tr>\n",
       "    <tr>\n",
       "      <th>1</th>\n",
       "      <td>1.203675</td>\n",
       "      <td>1.448834</td>\n",
       "      <td>1.743925</td>\n",
       "      <td>2.099119</td>\n",
       "      <td>-2.362257</td>\n",
       "    </tr>\n",
       "    <tr>\n",
       "      <th>2</th>\n",
       "      <td>1.396868</td>\n",
       "      <td>1.951241</td>\n",
       "      <td>2.725626</td>\n",
       "      <td>3.807340</td>\n",
       "      <td>-2.015460</td>\n",
       "    </tr>\n",
       "    <tr>\n",
       "      <th>3</th>\n",
       "      <td>0.317236</td>\n",
       "      <td>0.100639</td>\n",
       "      <td>0.031926</td>\n",
       "      <td>0.010128</td>\n",
       "      <td>0.000103</td>\n",
       "    </tr>\n",
       "    <tr>\n",
       "      <th>4</th>\n",
       "      <td>0.414134</td>\n",
       "      <td>0.171507</td>\n",
       "      <td>0.071027</td>\n",
       "      <td>0.029415</td>\n",
       "      <td>-2.297283</td>\n",
       "    </tr>\n",
       "  </tbody>\n",
       "</table>\n",
       "</div>"
      ],
      "text/plain": [
       "          x       x^2       x^3       x^4         y\n",
       "0 -0.359668  0.129361 -0.046527  0.016734  1.851173\n",
       "1  1.203675  1.448834  1.743925  2.099119 -2.362257\n",
       "2  1.396868  1.951241  2.725626  3.807340 -2.015460\n",
       "3  0.317236  0.100639  0.031926  0.010128  0.000103\n",
       "4  0.414134  0.171507  0.071027  0.029415 -2.297283"
      ]
     },
     "execution_count": 77,
     "metadata": {},
     "output_type": "execute_result"
    }
   ],
   "source": [
    "# Create dataset with linear, quadratic, cubic and quartic columns\n",
    "rng = np.random.default_rng(20)\n",
    "n = 100\n",
    "x = rng.normal(size=n)\n",
    "\n",
    "df = pd.DataFrame({\n",
    "    'x': x,\n",
    "    'x^2': x**2,\n",
    "    'x^3': x**3,\n",
    "    'x^4': x**4,\n",
    "    'y': x - 2*x**2 + rng.normal(size=n)\n",
    "})\n",
    "\n",
    "df.head()"
   ]
  },
  {
   "cell_type": "code",
   "execution_count": 89,
   "metadata": {},
   "outputs": [],
   "source": [
    "def LOOCV_score(columns, data_full):\n",
    "    loo = LeaveOneOut()\n",
    "    error = 0\n",
    "    for i, fold in enumerate(loo.split(data_full)):\n",
    "        # fit model with each fold\n",
    "        data = data_full.iloc[fold[0]]\n",
    "        X = data[columns]\n",
    "        y = data.y\n",
    "\n",
    "        model = LinearRegression(fit_intercept=True)\n",
    "        model.fit(X.values, y.values)\n",
    "\n",
    "        predicted = model.predict(np.array(data_full.iloc[i].loc[columns]).reshape(1,-1))[0]\n",
    "        actual_value = data_full.y.iloc[i]\n",
    "        #print(i, predicted, actual_value)\n",
    "        error = (predicted - actual_value)**2\n",
    "\n",
    "    return 1-np.sqrt(error/data_full.shape[0])"
   ]
  },
  {
   "cell_type": "code",
   "execution_count": 90,
   "metadata": {},
   "outputs": [
    {
     "name": "stdout",
     "output_type": "stream",
     "text": [
      "Score for columns ['x']: 0.9934242181869769\n",
      "Score for columns ['x', 'x^2']: 0.9277712088683738\n",
      "Score for columns ['x', 'x^2', 'x^3']: 0.940593802435166\n",
      "Score for columns ['x', 'x^2', 'x^3', 'x^4']: 0.9298232254058209\n"
     ]
    }
   ],
   "source": [
    "columns = ['x', 'x^2', 'x^3', 'x^4']\n",
    "\n",
    "for c in range(1, len(columns)+1):\n",
    "    score = LOOCV_score(columns[:c], df)\n",
    "    print(f'Score for columns {columns[:c]}: {score}')"
   ]
  },
  {
   "cell_type": "code",
   "execution_count": null,
   "metadata": {},
   "outputs": [],
   "source": []
  }
 ],
 "metadata": {
  "kernelspec": {
   "display_name": "venv",
   "language": "python",
   "name": "python3"
  },
  "language_info": {
   "codemirror_mode": {
    "name": "ipython",
    "version": 3
   },
   "file_extension": ".py",
   "mimetype": "text/x-python",
   "name": "python",
   "nbconvert_exporter": "python",
   "pygments_lexer": "ipython3",
   "version": "3.11.7"
  }
 },
 "nbformat": 4,
 "nbformat_minor": 2
}
