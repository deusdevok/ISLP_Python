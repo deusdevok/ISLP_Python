{
 "cells": [
  {
   "cell_type": "code",
   "execution_count": 37,
   "metadata": {},
   "outputs": [],
   "source": [
    "from ISLP import load_data\n",
    "from ISLP.models import summarize, ModelSpec as MS\n",
    "\n",
    "import statsmodels.api as sm\n",
    "\n",
    "import numpy as np\n",
    "\n",
    "import matplotlib.pyplot as plt"
   ]
  },
  {
   "cell_type": "code",
   "execution_count": 2,
   "metadata": {},
   "outputs": [
    {
     "data": {
      "text/html": [
       "<div>\n",
       "<style scoped>\n",
       "    .dataframe tbody tr th:only-of-type {\n",
       "        vertical-align: middle;\n",
       "    }\n",
       "\n",
       "    .dataframe tbody tr th {\n",
       "        vertical-align: top;\n",
       "    }\n",
       "\n",
       "    .dataframe thead th {\n",
       "        text-align: right;\n",
       "    }\n",
       "</style>\n",
       "<table border=\"1\" class=\"dataframe\">\n",
       "  <thead>\n",
       "    <tr style=\"text-align: right;\">\n",
       "      <th></th>\n",
       "      <th>default</th>\n",
       "      <th>student</th>\n",
       "      <th>balance</th>\n",
       "      <th>income</th>\n",
       "    </tr>\n",
       "  </thead>\n",
       "  <tbody>\n",
       "    <tr>\n",
       "      <th>0</th>\n",
       "      <td>No</td>\n",
       "      <td>No</td>\n",
       "      <td>729.526495</td>\n",
       "      <td>44361.625074</td>\n",
       "    </tr>\n",
       "    <tr>\n",
       "      <th>1</th>\n",
       "      <td>No</td>\n",
       "      <td>Yes</td>\n",
       "      <td>817.180407</td>\n",
       "      <td>12106.134700</td>\n",
       "    </tr>\n",
       "    <tr>\n",
       "      <th>2</th>\n",
       "      <td>No</td>\n",
       "      <td>No</td>\n",
       "      <td>1073.549164</td>\n",
       "      <td>31767.138947</td>\n",
       "    </tr>\n",
       "    <tr>\n",
       "      <th>3</th>\n",
       "      <td>No</td>\n",
       "      <td>No</td>\n",
       "      <td>529.250605</td>\n",
       "      <td>35704.493935</td>\n",
       "    </tr>\n",
       "    <tr>\n",
       "      <th>4</th>\n",
       "      <td>No</td>\n",
       "      <td>No</td>\n",
       "      <td>785.655883</td>\n",
       "      <td>38463.495879</td>\n",
       "    </tr>\n",
       "  </tbody>\n",
       "</table>\n",
       "</div>"
      ],
      "text/plain": [
       "  default student      balance        income\n",
       "0      No      No   729.526495  44361.625074\n",
       "1      No     Yes   817.180407  12106.134700\n",
       "2      No      No  1073.549164  31767.138947\n",
       "3      No      No   529.250605  35704.493935\n",
       "4      No      No   785.655883  38463.495879"
      ]
     },
     "execution_count": 2,
     "metadata": {},
     "output_type": "execute_result"
    }
   ],
   "source": [
    "Default = load_data('Default')\n",
    "Default.head()"
   ]
  },
  {
   "cell_type": "code",
   "execution_count": 12,
   "metadata": {},
   "outputs": [
    {
     "name": "stdout",
     "output_type": "stream",
     "text": [
      "                coef   std err       z  P>|z|\n",
      "intercept -11.540500  0.435000 -26.544    0.0\n",
      "income      0.000021  0.000005   4.174    0.0\n",
      "balance     0.005600  0.000000  24.835    0.0\n",
      "                 Generalized Linear Model Regression Results                  \n",
      "==============================================================================\n",
      "Dep. Variable:                default   No. Observations:                10000\n",
      "Model:                            GLM   Df Residuals:                     9997\n",
      "Model Family:                Binomial   Df Model:                            2\n",
      "Link Function:                  Logit   Scale:                          1.0000\n",
      "Method:                          IRLS   Log-Likelihood:                -789.48\n",
      "Date:                Sat, 13 Jan 2024   Deviance:                       1579.0\n",
      "Time:                        14:37:12   Pearson chi2:                 6.95e+03\n",
      "No. Iterations:                     9   Pseudo R-squ. (CS):             0.1256\n",
      "Covariance Type:            nonrobust                                         \n",
      "==============================================================================\n",
      "                 coef    std err          z      P>|z|      [0.025      0.975]\n",
      "------------------------------------------------------------------------------\n",
      "intercept    -11.5405      0.435    -26.544      0.000     -12.393     -10.688\n",
      "income      2.081e-05   4.99e-06      4.174      0.000     1.1e-05    3.06e-05\n",
      "balance        0.0056      0.000     24.835      0.000       0.005       0.006\n",
      "==============================================================================\n"
     ]
    }
   ],
   "source": [
    "columns = ['income', 'balance']\n",
    "design = MS(columns)\n",
    "X = design.fit_transform(Default)\n",
    "y = Default.default == 'Yes'\n",
    "\n",
    "model = sm.GLM(y, X, family = sm.families.Binomial()) # Binomial for Logistic Regression\n",
    "\n",
    "results = model.fit()\n",
    "print(summarize(results))\n",
    "print(results.summary())"
   ]
  },
  {
   "cell_type": "code",
   "execution_count": 20,
   "metadata": {},
   "outputs": [
    {
     "data": {
      "text/plain": [
       "(4.99e-06, 0.0)"
      ]
     },
     "execution_count": 20,
     "metadata": {},
     "output_type": "execute_result"
    }
   ],
   "source": [
    "res = summarize(results)\n",
    "res['std err']['income'], res['std err']['balance']"
   ]
  },
  {
   "cell_type": "code",
   "execution_count": 46,
   "metadata": {},
   "outputs": [],
   "source": [
    "def compute_coefs(D, idx):\n",
    "    columns = ['income', 'balance']\n",
    "    design = MS(columns)\n",
    "    X = design.fit_transform(D.loc[idx])\n",
    "    y = D.loc[idx].default == 'Yes'\n",
    "\n",
    "    model = sm.GLM(y, X, family = sm.families.Binomial()) # Binomial for Logistic Regression\n",
    "\n",
    "    results = model.fit()\n",
    "    res = summarize(results)\n",
    "    return res['coef']['income'], res['coef']['balance']\n",
    "\n",
    "def boot_fn(data, n=None, B=1000, seed=0):\n",
    "    rng = np.random.default_rng(seed)\n",
    "    n = n or data.shape[0]\n",
    "\n",
    "    income_sum_ = 0\n",
    "    income_sum_squared_ = 0\n",
    "    balance_sum_ = 0\n",
    "    balance_sum_squared_ = 0\n",
    "    for _ in range(B):\n",
    "        idx = rng.choice(data.index, n, replace=True)\n",
    "        coefs = compute_coefs(data, idx)\n",
    "        \n",
    "        income_sum_ += coefs[0]\n",
    "        income_sum_squared_ += coefs[0]**2\n",
    "        balance_sum_ += coefs[1]\n",
    "        balance_sum_squared_ += coefs[1]**2\n",
    "\n",
    "    std_income = np.sqrt(income_sum_squared_ / B - (income_sum_ / B)**2)\n",
    "    std_balance = np.sqrt(balance_sum_squared_ / B - (balance_sum_ / B)**2)\n",
    "\n",
    "    return std_income, std_balance\n",
    "\n",
    "def boot_fn_plot_hist(data, n=None, B=1000, seed=0):\n",
    "    rng = np.random.default_rng(seed)\n",
    "    n = n or data.shape[0]\n",
    "\n",
    "    income = []\n",
    "    balance = []\n",
    "    for _ in range(B):\n",
    "        idx = rng.choice(data.index, n, replace=True)\n",
    "        coefs = compute_coefs(data, idx)\n",
    "        \n",
    "        income.append(coefs[0])\n",
    "        balance.append(coefs[1])\n",
    "\n",
    "    fig, axs = plt.subplots(1, 2, sharey=True, tight_layout=True, figsize=(10,6))\n",
    "\n",
    "    axs[0].hist(income, bins=25)\n",
    "    axs[1].hist(balance, bins=25)"
   ]
  },
  {
   "cell_type": "code",
   "execution_count": 36,
   "metadata": {},
   "outputs": [
    {
     "data": {
      "text/plain": [
       "(5.5560490458598254e-06, 0.00023748684174074766)"
      ]
     },
     "execution_count": 36,
     "metadata": {},
     "output_type": "execute_result"
    }
   ],
   "source": [
    "boot_fn(Default, B=10)"
   ]
  },
  {
   "cell_type": "code",
   "execution_count": 48,
   "metadata": {},
   "outputs": [
    {
     "data": {
      "image/png": "[encoded data removed]",
      "text/plain": [
       "<Figure size 1000x600 with 2 Axes>"
      ]
     },
     "metadata": {},
     "output_type": "display_data"
    }
   ],
   "source": [
    "boot_fn_plot_hist(Default, B=1000)"
   ]
  },
  {
   "cell_type": "code",
   "execution_count": null,
   "metadata": {},
   "outputs": [],
   "source": []
  }
 ],
 "metadata": {
  "kernelspec": {
   "display_name": "venv",
   "language": "python",
   "name": "python3"
  },
  "language_info": {
   "codemirror_mode": {
    "name": "ipython",
    "version": 3
   },
   "file_extension": ".py",
   "mimetype": "text/x-python",
   "name": "python",
   "nbconvert_exporter": "python",
   "pygments_lexer": "ipython3",
   "version": "3.11.2"
  }
 },
 "nbformat": 4,
 "nbformat_minor": 2
}
